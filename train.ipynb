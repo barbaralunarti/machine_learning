{
 "cells": [
  {
   "cell_type": "code",
   "execution_count": 1,
   "metadata": {},
   "outputs": [],
   "source": [
    "import pandas as pd\n",
    "from sklearn import model_selection\n",
    "from sklearn import tree\n",
    "from sklearn import metrics"
   ]
  },
  {
   "cell_type": "code",
   "execution_count": null,
   "metadata": {},
   "outputs": [],
   "source": [
    "df = pd.read_csv(\"dados_pontos.csv\",\n",
    "                 sep=\";\")\n",
    "df"
   ]
  },
  {
   "cell_type": "code",
   "execution_count": null,
   "metadata": {},
   "outputs": [],
   "source": [
    "# Definição das variáveis de features e target\n",
    "features = df.columns[3:-1] # Seleciona as colunas que serão usadas como variáveis independentes\n",
    "target = 'flActive' # Define a variável dependente como a coluna flActive, que indica se o usuário está ativo (1) ou inativo (0)"
   ]
  },
  {
   "cell_type": "code",
   "execution_count": null,
   "metadata": {},
   "outputs": [
    {
     "name": "stdout",
     "output_type": "stream",
     "text": [
      "Taxa resposta treino:  0.32550335570469796\n",
      "Taxa resposta teste:  0.32662192393736017\n"
     ]
    }
   ],
   "source": [
    "# Divisão dos dados em treino e teste\n",
    "X_train, X_test, y_train, y_test = model_selection.train_test_split(df[features],\n",
    "                                                                    df[target],\n",
    "                                                                    test_size=0.2, # Define que 20% dos dados serão usados para teste e 80% para treino\n",
    "                                                                    random_state=42,\n",
    "                                                                    stratify=df[target]) # Mantém a proporção da variável target nos conjuntos de treino e teste\n",
    "\n",
    "# Verificação da taxa de resposta\n",
    "# Mostra que a proporção de usuários ativos é de aproximadamente 32,5% em ambos os conjuntos\n",
    "print(\"Taxa resposta treino: \", y_train.mean())\n",
    "print(\"Taxa resposta teste: \", y_test.mean())\n",
    "\n",
    "# Tratamento de valores faltantes\n",
    "imput_avgRecorrencia = X_train['avgRecorrencia'].max()\n",
    "X_train['avgRecorrencia'] = X_train['avgRecorrencia'].fillna(imput_avgRecorrencia)\n",
    "X_test['avgRecorrencia'] = X_test['avgRecorrencia'].fillna(imput_avgRecorrencia)"
   ]
  },
  {
   "cell_type": "code",
   "execution_count": null,
   "metadata": {},
   "outputs": [
    {
     "name": "stdout",
     "output_type": "stream",
     "text": [
      "Árvore Train ACC:  0.8137583892617449\n",
      "Árvore Train AUC:  0.8635680418070018\n",
      "Árvore Test ACC:  0.8008948545861297\n",
      "Árvore Test AUC:  0.8402357438674737\n"
     ]
    }
   ],
   "source": [
    "# Criação e treinamento do modelo de árvore de decisão\n",
    "arvore = tree.DecisionTreeClassifier(max_depth=10,\n",
    "                                     min_samples_leaf=50,\n",
    "                                     random_state=42)\n",
    "\n",
    "arvore.fit(X_train, y_train) # Treina o modelo usando os dados de treino\n",
    "\n",
    "# Avaliação do modelo no conjunto de treino\n",
    "tree_predict_train = arvore.predict(X_train) # Faz previsões no conjunto de treino\n",
    "tree_acc_train = metrics.accuracy_score(y_train, tree_predict_train) # Calcula a acurácia (proporção de previsões corretas)\n",
    "print(\"Árvore Train ACC: \", tree_acc_train)\n",
    "\n",
    "tree_proba_train = arvore.predict_proba(X_train)[:,1] # Calcula as probabilidades de cada classe (0 ou 1)\n",
    "tree_auc_train = metrics.roc_auc_score(y_train, tree_proba_train) # Calcula a AUC (área sob a curva ROC), que mede a capacidade do modelo de distinguir entre as classes\n",
    "print(\"Árvore Train AUC: \", tree_auc_train)\n",
    "\n",
    "# Avaliação do modelo no conjunto de teste\n",
    "tree_predict_test = arvore.predict(X_test)\n",
    "tree_acc_test = metrics.accuracy_score(y_test, tree_predict_test)\n",
    "print(\"Árvore Test ACC: \", tree_acc_test)\n",
    "\n",
    "tree_proba_test = arvore.predict_proba(X_test)[:,1]\n",
    "tree_auc_test = metrics.roc_auc_score(y_test, tree_proba_test)\n",
    "print(\"Árvore Test AUC: \", tree_auc_test)"
   ]
  },
  {
   "cell_type": "markdown",
   "metadata": {},
   "source": [
    "##### Comparação entre treino e teste  \n",
    "Acurácia:  \n",
    "A pequena diferença (~1,3%) indica que o modelo não está sofrendo de overfitting (ou seja, não está apenas memorizando os dados de treino).\n",
    "\n",
    "AUC:  \n",
    "A diferença (~2,4%) também é pequena, o que reforça que o modelo generaliza bem para dados novos."
   ]
  },
  {
   "cell_type": "code",
   "execution_count": null,
   "metadata": {},
   "outputs": [
    {
     "data": {
      "text/plain": [
       "984     1\n",
       "1676    0\n",
       "1420    0\n",
       "1242    0\n",
       "2149    0\n",
       "       ..\n",
       "2045    0\n",
       "609     1\n",
       "1662    1\n",
       "1463    1\n",
       "1584    0\n",
       "Name: flActive, Length: 447, dtype: int64"
      ]
     },
     "execution_count": 6,
     "metadata": {},
     "output_type": "execute_result"
    }
   ],
   "source": [
    "# Inspeção da variável target no conjunto de teste\n",
    "y_test # pessoas que voltaram para a live ou não (1 ou 0)"
   ]
  }
 ],
 "metadata": {
  "kernelspec": {
   "display_name": "Python 3",
   "language": "python",
   "name": "python3"
  },
  "language_info": {
   "codemirror_mode": {
    "name": "ipython",
    "version": 3
   },
   "file_extension": ".py",
   "mimetype": "text/x-python",
   "name": "python",
   "nbconvert_exporter": "python",
   "pygments_lexer": "ipython3",
   "version": "3.12.0"
  }
 },
 "nbformat": 4,
 "nbformat_minor": 2
}
